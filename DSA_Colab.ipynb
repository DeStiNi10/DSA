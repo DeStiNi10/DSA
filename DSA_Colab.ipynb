{
  "nbformat": 4,
  "nbformat_minor": 0,
  "metadata": {
    "colab": {
      "name": "DSA_Colab.ipynb",
      "provenance": [],
      "collapsed_sections": [
        "KbGHlR76Ws_u",
        "C6w0o2D8W7gT"
      ],
      "authorship_tag": "ABX9TyO3roH3U2pT2J7Uf6Uuh15C",
      "include_colab_link": true
    },
    "kernelspec": {
      "name": "python3",
      "display_name": "Python 3"
    },
    "language_info": {
      "name": "python"
    }
  },
  "cells": [
    {
      "cell_type": "markdown",
      "metadata": {
        "id": "view-in-github",
        "colab_type": "text"
      },
      "source": [
        "<a href=\"https://colab.research.google.com/github/atulnarayanan/DSA/blob/main/DSA_Colab.ipynb\" target=\"_parent\"><img src=\"https://colab.research.google.com/assets/colab-badge.svg\" alt=\"Open In Colab\"/></a>"
      ]
    },
    {
      "cell_type": "markdown",
      "source": [
        "# Python Basics\n"
      ],
      "metadata": {
        "id": "KbGHlR76Ws_u"
      }
    },
    {
      "cell_type": "markdown",
      "source": [
        "1. String Functions : slice, split, join, match for num,\n",
        "decimals, alpha, special chars, upper lower, etc.\n",
        "2. List Manipulations, Slicing, Indexing from reverse, forward,  iterating with different Step size.\n",
        "3. List Comprehension\n",
        "4. Dictionary Function / Iteration (Keys, Values)\n",
        "5. Set Operations, Set properties. \n",
        "6. Tuples. \n",
        "7. Regex\n",
        "8. Lambda Functions, Maps, Filters\n",
        "9. Itertools, Counters.\n",
        "10. Sum, Min, Max, Floor, Ceil, Typecasting. \n",
        "11.  Numpy operations for 2d arrays."
      ],
      "metadata": {
        "id": "MsjqnRWmWzq4"
      }
    },
    {
      "cell_type": "code",
      "source": [
        "print('Hello World')"
      ],
      "metadata": {
        "id": "WoMIA4qmW2FS"
      },
      "execution_count": null,
      "outputs": []
    },
    {
      "cell_type": "markdown",
      "source": [
        "# DSA"
      ],
      "metadata": {
        "id": "C6w0o2D8W7gT"
      }
    },
    {
      "cell_type": "markdown",
      "source": [
        "1. DFS : \n",
        "        A) DFS WITH STACK (ITERATIVE) \n",
        "        B) DFS WITH RECURSION (RECURSIVE) \n",
        "\n",
        "2. BFS : \n",
        "        A) BFS WITH QUEUE (ITERATIVE)\n",
        "\n",
        "3. DP : \n",
        "        ONE DIMENSIONAL DYNAMIC PROGRAMMING (LOOK UP AT LEAST ONE PROBLEM FOR THIS)\n",
        "   \n",
        "4. DP : \n",
        "        TWO DIMENSIONAL DYNAMIC PROGRAMMING  (LOOK UP AT LEAST ONE PROBLEM FOR THIS)"
      ],
      "metadata": {
        "id": "kVRALw6XW92x"
      }
    },
    {
      "cell_type": "markdown",
      "source": [
        "1. Basic Graph Algorithms / Problems : \n",
        "\n",
        "- DFS, BFS, Finding Cycles, Finding Shortest path in unweighted / undirected graph. \n",
        "- Binary Heaps, Min Heaps, Max Heaps\n",
        "- Directed Graphs, Directed Acyclic Graphs (DAG)\n",
        "- Topological Ordering\n",
        "- Topological Sorting\n",
        "\n",
        "2. Greedy Methodology : \n",
        "\n",
        "- Fractional Knapsack, Scheduling Problems, etc.\n",
        "- Greedy Applied to Graphs : \n",
        "        -> Shortest Path (Dijkstras)\n",
        "        -> MST (Kruskals, Prims)\n",
        "- Coin Change Denomination Problems\n",
        "\n",
        "3. Divide and Conquer : \n",
        "\n",
        "- What is DnC? \n",
        "- Merge Sort, Recursion Trees, Divide -> Conquer -> Combine.\n",
        "\n",
        "4. Dynamic Programming : \n",
        "\n",
        "- 0/1 Knapsack, Sum of Subsets\n",
        "- What is memoization? What is optimal substructure? What are overlapping subproblems? \n",
        "- 2 Sum, 3 Sum. \n",
        "- Bellman Ford Algorithm \n"
      ],
      "metadata": {
        "id": "tlBsXfFWW-xL"
      }
    }
  ]
}